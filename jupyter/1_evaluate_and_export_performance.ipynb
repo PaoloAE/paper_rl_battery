{
 "cells": [
  {
   "cell_type": "markdown",
   "metadata": {},
   "source": [
    "# Dicke quantum battery, coupling scheme: evaluate and export performance"
   ]
  },
  {
   "cell_type": "markdown",
   "metadata": {},
   "source": [
    "Evaluates the performance of the trained data, and exports all data as readable files and pdf plots\n",
    "#### Import modules"
   ]
  },
  {
   "cell_type": "code",
   "execution_count": null,
   "metadata": {},
   "outputs": [],
   "source": [
    "import numpy as np\n",
    "import sys\n",
    "import os\n",
    "sys.path.append(os.path.join('..','src'))\n",
    "import extra\n",
    "import sac_epi_envs"
   ]
  },
  {
   "cell_type": "markdown",
   "metadata": {},
   "source": [
    "## Export trained data\n",
    "\n",
    "This command allows to evaluate and export data for multiple training folders create either using ```0_train_coupling_case.ipynb``` or ```0_train_detuning_case.ipynb```.\n",
    "\n",
    "In particular, let us assume that multiple training folders are in ```main_dir```. It loads all of them that satisfy the criteria in ```conditions_dict```. Here, we choose as criteria a fixed number of qubits $N$, i.e. ```nq``` in the code. In the manuscript, we did this for $N=12,14,16,18,20$, so we do the same in this code example. For each value  of ```nq```, that we denote with ```{nq_val}```, it will:\n",
    "- create a folder named ```\"nq={nq_val}\"``` within the ```main_dir``` folder;\n",
    "- create a file in ```main_dir``` called ```\"performance_tau_nq={nq_val}.txt\"```.\n",
    "\n",
    "The folder ```\"nq={nq_val}\"``` contains the following files for every single training folder, which should correspond to a different value of tau (```{tau_val}``` is to be replaced with the value of tau of each training folder):\n",
    "- ```\"eval_tau={tau_val}.pdf\"```: plot with the return ```G```, ```obj 0```, i.e. the energy, ```obj 1```, i.e. the ergotropy, and ```u```, the time-dependent control, as a function of the training step. Here the final deterministic policy is used to choose the actions. This plot is also shown in this Jupyter Notebook during the execution of the following block.\n",
    "- ```\"spectrum_weights_tau={tau_val}.pdf\"```. Plot analyzing the performance of the final deterministic policy. First 3 panels correspond respectively to the projection of the quantum state onto the eigenstates of $\\mathcal{\\hat H}(t)$, the eigenstates of $\\mathcal{\\hat H}_{\\rm C}$, and the eigenstates of $\\mathcal{\\hat H}_{\\rm B}$; then the y represents the energy, and the x is time, and the color is the square of the projection of the state onto the eigenstates. The following panels show the entropy of all the TLS, the entropy of a single TLS, the single TLS ergotropy, and the time dependent control as a function of time.\n",
    "-  ```\"train_tau={tau_val}.pdf\"```: pdf plot representing the training behaviour. This corresponds to the plot outputted during training (see ```0_train_coupling_case.ipynb```).  This plot is also shown in this Jupyter Notebook during the execution of the following block.\n",
    "- ```\"objs_extra_data_tau={tau_val}.txt\"```: text file with the performance of the final deterministic policy. Every row is a time-step, and each of the 16 columns reprents respectively [0 = time step, 1 = time-dependent control, 2 = obj 0 (total battery energy), 3 = obj 1 (single TLS unit ergotropy), 4 = single TLS energy, 5 = single TLS entropy, 6 = single TLS energy variance, 7 = single TLS purity, 8 = battery energy, 9 = battery entropy, 10 = battery energy variance, 11 = cavity energy, 12 = cavity entropy, 13 = cavity energy variance, 14 = total energy (including coupling), 15 = total energy variance]\n",
    "- ```\"spectrum_weights_tau={tau_val}.npz\"```: numpy compressed object with a ```\"data\"``` key. This is an array with shape (time_steps,hamil_index,spectrum,2). Time_steps indexes each timestep. hamil_index represents which hamiltonian we are projecting on, with 0=$\\mathcal{\\hat H}_{\\rm C}+\\mathcal{\\hat H}_{\\rm B}$, 1=$\\mathcal{\\hat H}_{\\rm C}$, 2=$\\mathcal{\\hat H}_{\\rm B}$. Spectrum is an integer for each eigenstate of the corresponding Hamiltonian. The final index is 0=(energy value of the eingenstate), 1=(square projection of the state on the corresponding eigenstate).\n",
    "\n",
    "The file ```\"performance_tau_nq={nq_val}.txt\"``` contains the performance of all the files with the given $N$. In particular, each row is a different value of tau (i.e. each row is a separate training), and each column represents the same exact quantities in ```\"objs_extra_data_tau={tau_val}.txt\"```, but evaluated at the final time, and the value of the time-dependent control (index=1), is replaced with the return.\n",
    "\n"
   ]
  },
  {
   "cell_type": "code",
   "execution_count": null,
   "metadata": {
    "scrolled": true
   },
   "outputs": [],
   "source": [
    "#folder where the training folders are\n",
    "main_dir = \"../data/\"  \n",
    "#which quantity is in the first column of the \"performance_tau_nq={nq_val}.txt\" file. Not recommended changing this\n",
    "x_quantity = \"tau\"  \n",
    "#the quantities here present will be appended to the file names to distinguish them. Not recommended changing this\n",
    "quantities_for_indexing = [\"tau\"] \n",
    "   \n",
    "#loop over values of nq present in the main_dir\n",
    "for nq in range(16,18,2):\n",
    "    #only load training folders with this criteria. This way we get a separate txt file with the performance for \n",
    "    #each value of nq\n",
    "    conditions_dict = {\"nq\": f\"{nq}\"} \n",
    "    extra.export_performance_and_protocol_files(main_dir, x_quantity, conditions_dict=conditions_dict,\n",
    "                                        quantities_for_indexing=quantities_for_indexing, show_single_plot=False,\n",
    "                                        exp_folder_name = f\"nq={nq}\",multiply_nc=2)"
   ]
  },
  {
   "cell_type": "markdown",
   "metadata": {},
   "source": [
    "## Choose best run out of multiple identical ones\n",
    "\n",
    "Let us assume we ran the same optimizations two times, i.e. we perform two repetitions. For each one, we exported the performance using the previous function into two distinc folders ```repetition_1``` and ```repetition_2```. The following creates a new folder ```destination_folder``` with the same exported data, but only selecting the best performance between the two folders. \n",
    "\n",
    "It further creates a file called ergo_mean_std_nq={nq_val}.txt for each value of nq that has different values of tau by row, and the 3 columns are the value of tau, the average ergotropy across mutiple runs, and the standard deviation of the ergotropy across multiple runs.\n",
    "\n",
    "For this to work, the two repetitions should contain identical runs. This function can compare an arbitrary number of repetitions (in the Manuscript, we display the best of 5 repetitions)."
   ]
  },
  {
   "cell_type": "code",
   "execution_count": null,
   "metadata": {},
   "outputs": [],
   "source": [
    "#list of folders, one for each repetition\n",
    "compare_folders =  [r\"../important_data/repetition_1\", r\"../important_data/repetition_2\"]    \n",
    "#destination folder where the only the best of two repetitions is reported\n",
    "destination_folder = \"../important_data/best_of_2_repetitions\"\n",
    "#list of values of nq to be compared\n",
    "nq_vals = np.arange(12,22,2)\n",
    "\n",
    "#run the command\n",
    "extra.create_best_of_multiple_runs(compare_folders, destination_folder, nq_vals)"
   ]
  },
  {
   "cell_type": "markdown",
   "metadata": {},
   "source": [
    "## Create on-off protocol reference data\n",
    "\n",
    "The following can be used to export the same data, but assuming we use the on-off protcol instead of the RL policies"
   ]
  },
  {
   "cell_type": "code",
   "execution_count": null,
   "metadata": {
    "scrolled": false
   },
   "outputs": [],
   "source": [
    "#nq_vals for which we want to export the on-off protocol performance\n",
    "nq_vals = np.arange(12,22,2)\n",
    "#folder where the data is exported\n",
    "exp_folder = \"../important_data/on_off_data\"\n",
    "\n",
    "for nq in nq_vals:\n",
    "    #create the environment parameters\n",
    "    dt=0.2\n",
    "    multiply_nc=2\n",
    "    tau = 5.6\n",
    "    env_params = {\n",
    "            \"wc\": 1.,                       \n",
    "            \"nc\": nq*2,\n",
    "            \"nc_i\": nq,\n",
    "            \"wq\": 1.,\n",
    "            \"nq\": nq,   \n",
    "            \"min_u\": -0.3,                      \n",
    "            \"max_u\": +0.3,  \n",
    "            \"dt\": dt,\n",
    "            \"tau\": tau,     \n",
    "            \"reward_coeff\": 1.,\n",
    "            \"quantity\": \"ergotropy\"\n",
    "        } \n",
    "    #create an action corresponding the the on-off protocol\n",
    "    action = np.array([0.3], dtype=np.float32)\n",
    "    #extra string to append to the file\n",
    "    extra_str = f\"_nq={nq}\"\n",
    "    #evaluate the performance of the on-off\n",
    "    extra.test_policy(sac_epi_envs.DickeBatteryOneControlCoupling, env_params,\n",
    "                         lambda o: action, False,suppress_show=False,\n",
    "                         actions_to_plot=500,dont_clear_output=True,\n",
    "                         actions_ylim=None,\n",
    "                         export_pdf_location=os.path.join(exp_folder, f\"eval{extra_str}.pdf\"),\n",
    "                         export_objs_and_entanglement_location=os.path.join(exp_folder, f\"objs_extra_data{extra_str}.txt\"),\n",
    "                         export_spectrum_weights_location = os.path.join(exp_folder, f\"spectrum_weights{extra_str}.npz\"),\n",
    "                         export_spetrum_weights_pdf_location = os.path.join(exp_folder, f\"spectrum_weights{extra_str}.pdf\"),dt=dt,\n",
    "                         multiply_nc=multiply_nc)"
   ]
  }
 ],
 "metadata": {
  "kernelspec": {
   "display_name": "Python 3 (ipykernel)",
   "language": "python",
   "name": "python3"
  },
  "language_info": {
   "codemirror_mode": {
    "name": "ipython",
    "version": 3
   },
   "file_extension": ".py",
   "mimetype": "text/x-python",
   "name": "python",
   "nbconvert_exporter": "python",
   "pygments_lexer": "ipython3",
   "version": "3.10.9"
  }
 },
 "nbformat": 4,
 "nbformat_minor": 4
}
