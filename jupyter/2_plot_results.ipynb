{
 "cells": [
  {
   "cell_type": "code",
   "execution_count": 1,
   "metadata": {},
   "outputs": [],
   "source": [
    "import numpy as np\n",
    "import matplotlib.pyplot as plt\n",
    "\n",
    "import sys\n",
    "import os\n",
    "sys.path.append(os.path.join('..','src'))"
   ]
  },
  {
   "cell_type": "markdown",
   "metadata": {},
   "source": [
    "# Plotting the results\n",
    "\n",
    "Assuming one used the Notebook ```0_train_coupling_case.ipynb``` or ```0_train_detuning_case.ipynb``` to generate data, and then  ```1_evaluate_and_export_performance.ipynb``` to evaluate and export the performance of one or the other case, the following creates a plot with multiple panel as a function of time. The panels correspond to the single TLS ergotropy, single TLS energy, the total battery energy variance, the single TLS energy variance, and the total time-dependent energy. Each color corresponds to a different value of $N=12,14,16,18,20$, as in the Manuscript. "
   ]
  },
  {
   "cell_type": "code",
   "execution_count": null,
   "metadata": {},
   "outputs": [],
   "source": [
    "#folder with the exported data\n",
    "main_dir = f\"../important_data/exported_data\"\n",
    "#values of nq, i.e. of $N$, present in the exported folder\n",
    "nq_vals = np.arange(12,22,2)\n",
    "\n",
    "#create the figure\n",
    "fig, ax = plt.subplots(5, figsize=(5.5,11), sharex=True)\n",
    "\n",
    "#readable indices to read the performance txt file\n",
    "quantity_idx = {\"time\": 0, \"actions\": 1, \"energy\": 2, \"ergotropy\": 3, \"qubit_energy\": 4,\n",
    "                    \"qubit_entropy\": 5, \"qubit_variance\": 6, \"qubit_purity\": 7, \"qubits_energy\": 8,\n",
    "                    \"qubits_entropy\": 9, \"qubits_variance\": 10, \"cavity_energy\": 11, \"cavity_entropy\": 12,\n",
    "                    \"cavity_variance\": 13, \"tot_energy\": 14, \"tot_variance\": 15}\n",
    "\n",
    "#create a list with performance files to read\n",
    "files = [os.path.join(main_dir,f\"performance_tau_nq={nq_val}.txt\") for nq_val in nq_vals]\n",
    "\n",
    "#loop over each nq value \n",
    "for nq_val, file in zip(nq_vals, files):\n",
    "    #read the data\n",
    "    data = np.loadtxt(file)\n",
    "    data = data[data[:, 0].argsort()]\n",
    "    \n",
    "    #plot the 5 desidered quantities in each panel\n",
    "    for i, quantity in enumerate([\"ergotropy\", \"qubit_energy\", \"qubits_variance\", \"qubit_variance\", \"tot_energy\"]):\n",
    "        ax[i].plot(data[:,quantity_idx[\"time\"]], data[:,quantity_idx[quantity]]/nq_val,\n",
    "                                     marker = '.', markersize = 10, label=f\"n={nq_val}\")\n",
    "        ax[i].set_ylabel(quantity)\n",
    "           \n",
    "#legend\n",
    "ax[0].legend(ncol=3, loc=\"lower right\")\n",
    "\n",
    "#time label\n",
    "ax[4].set_xlabel(r\"$t$\")\n",
    "\n",
    "#save and show it\n",
    "plt.tight_layout()\n",
    "plt.savefig(f\"performance.pdf\")\n",
    "plt.show()"
   ]
  }
 ],
 "metadata": {
  "kernelspec": {
   "display_name": "Python 3 (ipykernel)",
   "language": "python",
   "name": "python3"
  },
  "language_info": {
   "codemirror_mode": {
    "name": "ipython",
    "version": 3
   },
   "file_extension": ".py",
   "mimetype": "text/x-python",
   "name": "python",
   "nbconvert_exporter": "python",
   "pygments_lexer": "ipython3",
   "version": "3.10.9"
  }
 },
 "nbformat": 4,
 "nbformat_minor": 4
}
